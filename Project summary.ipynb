{
 "cells": [
  {
   "cell_type": "markdown",
   "metadata": {},
   "source": [
    "# About the data:\n",
    "This data was extracted from the census bureau database found at:\n",
    "http://www.census.gov/ftp/pub/DES/www/welcome.html\n",
    "Donor: \n",
    "* Ronny Kohavi and Barry Becker, Data Mining and Visualization\n",
    "* Silicon Graphics.\n",
    "* e-mail: ronnyk@sgi.com for questions.\n",
    "- Split into train-test using MLC++ GenCVFiles (2/3, 1/3 random).\n",
    "- 48842 instances, mix of continuous and discrete    (train=32561, test=16281)\n",
    "- 45222 if instances with unknown values are removed (train=30162, test=15060)\n",
    "- Duplicate or conflicting instances : 6\n",
    "- Class probabilities for adult.all file\n",
    "- Probability for the label '>50K'  : 23.93% / 24.78% (without unknowns)\n",
    "- Probability for the label '<=50K' : 76.07% / 75.22% (without unknowns)\n",
    "\n",
    "- Extraction was done by Barry Becker from the 1994 Census database.  A set of reasonably clean records was extracted using the following conditions:\n",
    " ((AAGE>16) && (AGI>100) && (AFNLWGT>1)&& (HRSWK>0))\n",
    "# Attribute information:\n",
    "Listing of attributes:\n",
    "\n",
    ">50K, <=50K.\n",
    "\n",
    "* age: continuous.\n",
    "* workclass: Private, Self-emp-not-inc, Self-emp-inc, Federal-gov, Local-gov, State-gov, Without-pay, Never-worked.\n",
    "* fnlwgt: continuous.\n",
    "* education: Bachelors, Some-college, 11th, HS-grad, Prof-school, Assoc-acdm, Assoc-voc, 9th, 7th-8th, 12th, Masters, 1st-4th, 10th, Doctorate, 5th-6th, Preschool.\n",
    "* education-num: continuous.\n",
    "* marital-status: Married-civ-spouse, Divorced, Never-married, Separated, Widowed, Married-spouse-absent, Married-AF-spouse.\n",
    "* occupation: Tech-support, Craft-repair, Other-service, Sales, Exec-managerial, Prof-specialty, Handlers-cleaners, Machine-op-inspct, Adm-clerical, Farming-fishing, Transport-moving, Priv-house-serv, Protective-serv, Armed-Forces.\n",
    "* relationship: Wife, Own-child, Husband, Not-in-family, Other-relative, Unmarried.\n",
    "* race: White, Asian-Pac-Islander, Amer-Indian-Eskimo, Other, Black.\n",
    "* sex: Female, Male.\n",
    "* capital-gain: continuous.\n",
    "* capital-loss: continuous.\n",
    "* hours-per-week: continuous.\n",
    "* native-country: United-States, Cambodia, England, Puerto-Rico, Canada, Germany, Outlying-US(Guam-USVI-etc), India, Japan, Greece, South, China, Cuba, Iran, Honduras, Philippines, Italy, Poland, Jamaica, Vietnam, Mexico, Portugal, Ireland, France, Dominican-Republic, Laos, Ecuador, Taiwan, Haiti, Columbia, Hungary, Guatemala, Nicaragua, Scotland, Thailand, Yugoslavia, El-Salvador, Trinadad&Tobago, Peru, Hong, Holand-Netherlands.\n",
    "\n",
    "## Prediction task is to determine whether a person makes over 50K a year.\n",
    "\n",
    "Description of fnlwgt (final weight)\n",
    "The weights on the CPS files are controlled to independent estimates of the civilian noninstitutional population of the US.  These are prepared monthly for us by Population Division here at the Census Bureau. We use 3 sets of controls.\n",
    "These are:\n",
    "  1.  A single cell estimate of the population 16+ for each state.\n",
    "  2.  Controls for Hispanic Origin by age and sex.\n",
    "  3.  Controls by Race, age and sex.\n",
    "  \n",
    "We use all three sets of controls in our weighting program and \"rake\" through them 6 times so that by the end we come back to all the controls we used.\n",
    "The term estimate refers to population totals derived from CPS by creating \"weighted tallies\" of any specified socio-economic characteristics of the population.\n",
    "People with similar demographic characteristics should have similar weights.  There is one important caveat to remember about this statement.\n",
    "That is that since the CPS sample is actually a collection of 51 state samples, each with its own probability of selection, the statement only applies within state."
   ]
  },
  {
   "cell_type": "markdown",
   "metadata": {},
   "source": [
    "# 5 core steps should go through:\n",
    "1. Exploratory analysis (Explore data)\n",
    "2. Data cleaning (Clean up data)\n",
    "3. Features engineering (Optimize data)\n",
    "4. Algorithm selection (Key to success)\n",
    "5. Model training (Maximum performance)"
   ]
  },
  {
   "cell_type": "markdown",
   "metadata": {},
   "source": [
    "# STEP 01: EXPLORE YOUR DATA"
   ]
  },
  {
   "cell_type": "markdown",
   "metadata": {},
   "source": [
    "## Basic questions need to self-answer:\n",
    "1. How many observations do I have? ==> 32560 Observations\n",
    "2. How many features? ==> 15 features\n",
    "3. What are datatype of my features? ==> Combination of numeric and categorical\n",
    "4. Do I have target variable? ==> Yes, that is INCOME feature"
   ]
  },
  {
   "cell_type": "markdown",
   "metadata": {},
   "source": [
    "<i>Important:</i> Find sparse classes in every feature"
   ]
  },
  {
   "cell_type": "markdown",
   "metadata": {},
   "source": [
    "## Questions need to answer before go to Step 02:\n",
    "1. Do the columns make sense now?\n",
    "2. Do the values in those columns make sense?\n",
    "3. Are those values on the right scale?\n",
    "4. Is missing data going to be a big problem by first skimming through?"
   ]
  },
  {
   "cell_type": "markdown",
   "metadata": {},
   "source": [
    "# STEP 02: DATA CLEANING (Clean up our data)"
   ]
  },
  {
   "cell_type": "markdown",
   "metadata": {},
   "source": [
    "## Checklist what we have done in Step 01:\n",
    "* Merge all sparse classes\n",
    "* Merge all data with the same characteristics\n",
    "* Structure errors (typo or inconsistent capitalization)\n",
    "* Remove duplicate and irrevelant features\n",
    "* Missing values processing\n",
    "* Removing unwanted outliers"
   ]
  },
  {
   "cell_type": "markdown",
   "metadata": {},
   "source": [
    "# STEP 03: FEATURE ENGINEERING\n",
    "What to do in this step:\n",
    "1. Create interaction features (based on existing features)\n",
    "2. Combine sparse classes\n",
    "3. Convert categorical features into numeric features (i.e. Using dummy variables)"
   ]
  },
  {
   "cell_type": "markdown",
   "metadata": {},
   "source": [
    "# STEP 04: ALGORITHMS SELECTION + STEP 05: MODEL TRAINING"
   ]
  },
  {
   "cell_type": "markdown",
   "metadata": {},
   "source": [
    "Due to the fact that our problem is to predict whether a person earn over 50K per year or not. We are going to use supervised learning algorithms to solve this problem. We may use:\n",
    "* Logistic regression\n",
    "* Decision trees\n",
    "* Random forests\n",
    "* Support Vector Machine"
   ]
  },
  {
   "cell_type": "markdown",
   "metadata": {},
   "source": [
    "We also use cross-validation and K-fold in this step. Rule of thumb: choose K = 10 for the best result. These are what we should do:\n",
    "1. Split our data (X and y) into 10 subsets (K = 10)\n",
    "2. For every subset, test its performanace through cv-score.\n",
    "3. Adjust hyperparameters if needed for every test to find the best hyperparameters.\n",
    "4. Calculate the average cv-score"
   ]
  },
  {
   "cell_type": "markdown",
   "metadata": {},
   "source": [
    "# CONCLUSION"
   ]
  }
 ],
 "metadata": {
  "kernelspec": {
   "display_name": "Python 3",
   "language": "python",
   "name": "python3"
  },
  "language_info": {
   "codemirror_mode": {
    "name": "ipython",
    "version": 2
   },
   "file_extension": ".py",
   "mimetype": "text/x-python",
   "name": "python",
   "nbconvert_exporter": "python",
   "pygments_lexer": "ipython2",
   "version": "2.7.12"
  }
 },
 "nbformat": 4,
 "nbformat_minor": 2
}
